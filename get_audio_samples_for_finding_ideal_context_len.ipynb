{
 "cells": [
  {
   "cell_type": "markdown",
   "metadata": {},
   "source": [
    "## Example on using the dataset\n",
    "\n",
    "Resources on building the dataset\n",
    "- https://huggingface.co/datasets/AILAB-VNUHCM/vivos/blob/main/vivos.py\n",
    "- https://huggingface.co/docs/datasets/en/audio_dataset#loading-script\n",
    "- https://huggingface.co/docs/datasets/en/stream"
   ]
  },
  {
   "cell_type": "markdown",
   "metadata": {},
   "source": [
    "Whenever changes are made to the dataset repo, run ```Remove-Item -Recurse -Force ~/.cache/huggingface/datasets/``` from the terminal"
   ]
  },
  {
   "cell_type": "code",
   "execution_count": 1,
   "metadata": {},
   "outputs": [],
   "source": [
    "file_paths = [\n",
    "    \"waves/3000-1_11.wav\",\n",
    "    \"waves/3000-1_28.wav\",\n",
    "    \"waves/3000-1_52.wav\",\n",
    "    \"waves/3001-1_101.wav\",\n",
    "    \"waves/3001-1_105.wav\",\n",
    "    \"waves/3001-1_11.wav\",\n",
    "    \"waves/3001-1_110.wav\",\n",
    "    \"waves/3001-1_113.wav\",\n",
    "    \"waves/3001-1_127.wav\",\n",
    "    \"waves/3001-1_13.wav\",\n",
    "    \"waves/3001-1_130.wav\",\n",
    "    \"waves/3001-1_142.wav\",\n",
    "    \"waves/3001-1_197.wav\",\n",
    "    \"waves/3001-1_75.wav\",\n",
    "    \"waves/3001-1_83.wav\",\n",
    "    \"waves/3001-1_96.wav\"\n",
    "]"
   ]
  },
  {
   "cell_type": "code",
   "execution_count": 2,
   "metadata": {},
   "outputs": [],
   "source": [
    "num_test_examples = 80"
   ]
  },
  {
   "cell_type": "code",
   "execution_count": 3,
   "metadata": {},
   "outputs": [
    {
     "data": {
      "application/vnd.jupyter.widget-view+json": {
       "model_id": "8ccf9c1f30f942b288a8c7250eec79c1",
       "version_major": 2,
       "version_minor": 0
      },
      "text/plain": [
       "Downloading builder script:   0%|          | 0.00/3.96k [00:00<?, ?B/s]"
      ]
     },
     "metadata": {},
     "output_type": "display_data"
    }
   ],
   "source": [
    "from datasets import load_dataset\n",
    "from IPython.display import Audio\n",
    "import soundfile as sf\n",
    "from torch.utils.data import IterableDataset\n",
    "import os \n",
    "import numpy as np\n",
    "from itertools import islice\n",
    "dataset_repo = \"johnlohjy/imda_nsc_p3_test_noiseaugmented\"\n",
    "dataset_test = load_dataset(dataset_repo, split='test', streaming=True, trust_remote_code=True)"
   ]
  },
  {
   "cell_type": "code",
   "execution_count": 4,
   "metadata": {},
   "outputs": [],
   "source": [
    "class SlicedDataset(IterableDataset):\n",
    "    def __init__(self, dataset, num_examples):\n",
    "        self.dataset = dataset\n",
    "        self.num_examples = num_examples\n",
    "\n",
    "    def __iter__(self):\n",
    "        return islice(iter(self.dataset), self.num_examples)\n",
    "\n",
    "    def __len__(self):\n",
    "        return self.num_examples\n",
    "\n",
    "dataset_test_reduced = SlicedDataset(dataset_test, num_examples=num_test_examples)"
   ]
  },
  {
   "cell_type": "code",
   "execution_count": 5,
   "metadata": {},
   "outputs": [],
   "source": [
    "output_dir = \"audio_samples_find_ideal_context_len\"\n",
    "os.makedirs(output_dir, exist_ok=True)\n",
    "\n",
    "for sample in dataset_test_reduced:\n",
    "    audio_path = sample[\"audio\"][\"path\"]\n",
    "    if audio_path in file_paths:\n",
    "        audio_array = sample[\"audio\"][\"array\"].astype(np.float32)\n",
    "        sample_rate = sample[\"audio\"][\"sampling_rate\"]\n",
    "        output_file = os.path.join(output_dir, os.path.basename(audio_path))\n",
    "\n",
    "        sf.write(output_file, audio_array, sample_rate)"
   ]
  },
  {
   "cell_type": "markdown",
   "metadata": {},
   "source": []
  }
 ],
 "metadata": {
  "kernelspec": {
   "display_name": "myenv2",
   "language": "python",
   "name": "python3"
  },
  "language_info": {
   "codemirror_mode": {
    "name": "ipython",
    "version": 3
   },
   "file_extension": ".py",
   "mimetype": "text/x-python",
   "name": "python",
   "nbconvert_exporter": "python",
   "pygments_lexer": "ipython3",
   "version": "3.12.4"
  }
 },
 "nbformat": 4,
 "nbformat_minor": 2
}
