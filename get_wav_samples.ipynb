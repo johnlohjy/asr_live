{
 "cells": [
  {
   "cell_type": "code",
   "execution_count": 1,
   "metadata": {},
   "outputs": [],
   "source": [
    "import wave\n",
    "import os\n",
    "import scipy.io.wavfile as wav\n",
    "import numpy as np\n",
    "from datasets import load_dataset\n",
    "# Define dataset for testing\n",
    "dataset_repo = \"johnlohjy/imda_nsc_p3_same_closemic_test\"\n",
    "dataset = load_dataset(dataset_repo, split='test', streaming=True, trust_remote_code=True)\n",
    "dataset_iter = iter(dataset)\n",
    "num_samples = 8\n",
    "\n",
    "output_dir = \"sample_wavs\"\n",
    "os.makedirs(output_dir, exist_ok=True)\n",
    "\n",
    "for i in range(num_samples):\n",
    "    sample = next(dataset_iter)\n",
    "    sample = sample[\"audio\"]\n",
    "    wav.write(os.path.join(output_dir,f'sample_{i+1}.wav'), sample[\"sampling_rate\"], (sample[\"array\"] * 32767).astype(np.int16))"
   ]
  },
  {
   "cell_type": "code",
   "execution_count": null,
   "metadata": {},
   "outputs": [],
   "source": []
  }
 ],
 "metadata": {
  "kernelspec": {
   "display_name": "myenv2",
   "language": "python",
   "name": "python3"
  },
  "language_info": {
   "codemirror_mode": {
    "name": "ipython",
    "version": 3
   },
   "file_extension": ".py",
   "mimetype": "text/x-python",
   "name": "python",
   "nbconvert_exporter": "python",
   "pygments_lexer": "ipython3",
   "version": "3.12.4"
  }
 },
 "nbformat": 4,
 "nbformat_minor": 2
}
