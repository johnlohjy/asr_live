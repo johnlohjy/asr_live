{
  "cells": [
    {
      "cell_type": "markdown",
      "metadata": {
        "id": "J2Oc2NKnqB8V"
      },
      "source": [
        "## Example on using the dataset\n",
        "\n",
        "Resources on building the dataset\n",
        "- https://huggingface.co/datasets/AILAB-VNUHCM/vivos/blob/main/vivos.py\n",
        "- https://huggingface.co/docs/datasets/en/audio_dataset#loading-script\n",
        "- https://huggingface.co/docs/datasets/en/stream"
      ]
    },
    {
      "cell_type": "markdown",
      "metadata": {
        "id": "eHdyy3_bqB8X"
      },
      "source": [
        "Whenever changes are made to the dataset repo, run ```Remove-Item -Recurse -Force ~/.cache/huggingface/datasets/``` from the terminal"
      ]
    },
    {
      "cell_type": "code",
      "source": [
        "!pip install evaluate transformers jiwer"
      ],
      "metadata": {
        "id": "3VLE_30oqLFc",
        "outputId": "cdf09892-63e7-42d2-e08b-8ad45b99f2d5",
        "colab": {
          "base_uri": "https://localhost:8080/"
        }
      },
      "execution_count": 1,
      "outputs": [
        {
          "output_type": "stream",
          "name": "stdout",
          "text": [
            "Collecting evaluate\n",
            "  Downloading evaluate-0.4.3-py3-none-any.whl.metadata (9.2 kB)\n",
            "Requirement already satisfied: transformers in /usr/local/lib/python3.11/dist-packages (4.50.3)\n",
            "Collecting jiwer\n",
            "  Downloading jiwer-3.1.0-py3-none-any.whl.metadata (2.6 kB)\n",
            "Collecting datasets>=2.0.0 (from evaluate)\n",
            "  Downloading datasets-3.5.0-py3-none-any.whl.metadata (19 kB)\n",
            "Requirement already satisfied: numpy>=1.17 in /usr/local/lib/python3.11/dist-packages (from evaluate) (2.0.2)\n",
            "Collecting dill (from evaluate)\n",
            "  Downloading dill-0.3.9-py3-none-any.whl.metadata (10 kB)\n",
            "Requirement already satisfied: pandas in /usr/local/lib/python3.11/dist-packages (from evaluate) (2.2.2)\n",
            "Requirement already satisfied: requests>=2.19.0 in /usr/local/lib/python3.11/dist-packages (from evaluate) (2.32.3)\n",
            "Requirement already satisfied: tqdm>=4.62.1 in /usr/local/lib/python3.11/dist-packages (from evaluate) (4.67.1)\n",
            "Collecting xxhash (from evaluate)\n",
            "  Downloading xxhash-3.5.0-cp311-cp311-manylinux_2_17_x86_64.manylinux2014_x86_64.whl.metadata (12 kB)\n",
            "Collecting multiprocess (from evaluate)\n",
            "  Downloading multiprocess-0.70.17-py311-none-any.whl.metadata (7.2 kB)\n",
            "Requirement already satisfied: fsspec>=2021.05.0 in /usr/local/lib/python3.11/dist-packages (from fsspec[http]>=2021.05.0->evaluate) (2025.3.2)\n",
            "Requirement already satisfied: huggingface-hub>=0.7.0 in /usr/local/lib/python3.11/dist-packages (from evaluate) (0.30.1)\n",
            "Requirement already satisfied: packaging in /usr/local/lib/python3.11/dist-packages (from evaluate) (24.2)\n",
            "Requirement already satisfied: filelock in /usr/local/lib/python3.11/dist-packages (from transformers) (3.18.0)\n",
            "Requirement already satisfied: pyyaml>=5.1 in /usr/local/lib/python3.11/dist-packages (from transformers) (6.0.2)\n",
            "Requirement already satisfied: regex!=2019.12.17 in /usr/local/lib/python3.11/dist-packages (from transformers) (2024.11.6)\n",
            "Requirement already satisfied: tokenizers<0.22,>=0.21 in /usr/local/lib/python3.11/dist-packages (from transformers) (0.21.1)\n",
            "Requirement already satisfied: safetensors>=0.4.3 in /usr/local/lib/python3.11/dist-packages (from transformers) (0.5.3)\n",
            "Requirement already satisfied: click>=8.1.8 in /usr/local/lib/python3.11/dist-packages (from jiwer) (8.1.8)\n",
            "Collecting rapidfuzz>=3.9.7 (from jiwer)\n",
            "  Downloading rapidfuzz-3.13.0-cp311-cp311-manylinux_2_17_x86_64.manylinux2014_x86_64.whl.metadata (12 kB)\n",
            "Requirement already satisfied: pyarrow>=15.0.0 in /usr/local/lib/python3.11/dist-packages (from datasets>=2.0.0->evaluate) (18.1.0)\n",
            "Collecting dill (from evaluate)\n",
            "  Downloading dill-0.3.8-py3-none-any.whl.metadata (10 kB)\n",
            "Collecting multiprocess (from evaluate)\n",
            "  Downloading multiprocess-0.70.16-py311-none-any.whl.metadata (7.2 kB)\n",
            "Collecting fsspec>=2021.05.0 (from fsspec[http]>=2021.05.0->evaluate)\n",
            "  Downloading fsspec-2024.12.0-py3-none-any.whl.metadata (11 kB)\n",
            "Requirement already satisfied: aiohttp in /usr/local/lib/python3.11/dist-packages (from datasets>=2.0.0->evaluate) (3.11.15)\n",
            "Requirement already satisfied: typing-extensions>=3.7.4.3 in /usr/local/lib/python3.11/dist-packages (from huggingface-hub>=0.7.0->evaluate) (4.13.1)\n",
            "Requirement already satisfied: charset-normalizer<4,>=2 in /usr/local/lib/python3.11/dist-packages (from requests>=2.19.0->evaluate) (3.4.1)\n",
            "Requirement already satisfied: idna<4,>=2.5 in /usr/local/lib/python3.11/dist-packages (from requests>=2.19.0->evaluate) (3.10)\n",
            "Requirement already satisfied: urllib3<3,>=1.21.1 in /usr/local/lib/python3.11/dist-packages (from requests>=2.19.0->evaluate) (2.3.0)\n",
            "Requirement already satisfied: certifi>=2017.4.17 in /usr/local/lib/python3.11/dist-packages (from requests>=2.19.0->evaluate) (2025.1.31)\n",
            "Requirement already satisfied: python-dateutil>=2.8.2 in /usr/local/lib/python3.11/dist-packages (from pandas->evaluate) (2.8.2)\n",
            "Requirement already satisfied: pytz>=2020.1 in /usr/local/lib/python3.11/dist-packages (from pandas->evaluate) (2025.2)\n",
            "Requirement already satisfied: tzdata>=2022.7 in /usr/local/lib/python3.11/dist-packages (from pandas->evaluate) (2025.2)\n",
            "Requirement already satisfied: aiohappyeyeballs>=2.3.0 in /usr/local/lib/python3.11/dist-packages (from aiohttp->datasets>=2.0.0->evaluate) (2.6.1)\n",
            "Requirement already satisfied: aiosignal>=1.1.2 in /usr/local/lib/python3.11/dist-packages (from aiohttp->datasets>=2.0.0->evaluate) (1.3.2)\n",
            "Requirement already satisfied: attrs>=17.3.0 in /usr/local/lib/python3.11/dist-packages (from aiohttp->datasets>=2.0.0->evaluate) (25.3.0)\n",
            "Requirement already satisfied: frozenlist>=1.1.1 in /usr/local/lib/python3.11/dist-packages (from aiohttp->datasets>=2.0.0->evaluate) (1.5.0)\n",
            "Requirement already satisfied: multidict<7.0,>=4.5 in /usr/local/lib/python3.11/dist-packages (from aiohttp->datasets>=2.0.0->evaluate) (6.2.0)\n",
            "Requirement already satisfied: propcache>=0.2.0 in /usr/local/lib/python3.11/dist-packages (from aiohttp->datasets>=2.0.0->evaluate) (0.3.1)\n",
            "Requirement already satisfied: yarl<2.0,>=1.17.0 in /usr/local/lib/python3.11/dist-packages (from aiohttp->datasets>=2.0.0->evaluate) (1.18.3)\n",
            "Requirement already satisfied: six>=1.5 in /usr/local/lib/python3.11/dist-packages (from python-dateutil>=2.8.2->pandas->evaluate) (1.17.0)\n",
            "Downloading evaluate-0.4.3-py3-none-any.whl (84 kB)\n",
            "\u001b[2K   \u001b[90m━━━━━━━━━━━━━━━━━━━━━━━━━━━━━━━━━━━━━━━━\u001b[0m \u001b[32m84.0/84.0 kB\u001b[0m \u001b[31m7.0 MB/s\u001b[0m eta \u001b[36m0:00:00\u001b[0m\n",
            "\u001b[?25hDownloading jiwer-3.1.0-py3-none-any.whl (22 kB)\n",
            "Downloading datasets-3.5.0-py3-none-any.whl (491 kB)\n",
            "\u001b[2K   \u001b[90m━━━━━━━━━━━━━━━━━━━━━━━━━━━━━━━━━━━━━━━━\u001b[0m \u001b[32m491.2/491.2 kB\u001b[0m \u001b[31m34.7 MB/s\u001b[0m eta \u001b[36m0:00:00\u001b[0m\n",
            "\u001b[?25hDownloading dill-0.3.8-py3-none-any.whl (116 kB)\n",
            "\u001b[2K   \u001b[90m━━━━━━━━━━━━━━━━━━━━━━━━━━━━━━━━━━━━━━━━\u001b[0m \u001b[32m116.3/116.3 kB\u001b[0m \u001b[31m11.7 MB/s\u001b[0m eta \u001b[36m0:00:00\u001b[0m\n",
            "\u001b[?25hDownloading fsspec-2024.12.0-py3-none-any.whl (183 kB)\n",
            "\u001b[2K   \u001b[90m━━━━━━━━━━━━━━━━━━━━━━━━━━━━━━━━━━━━━━━━\u001b[0m \u001b[32m183.9/183.9 kB\u001b[0m \u001b[31m18.5 MB/s\u001b[0m eta \u001b[36m0:00:00\u001b[0m\n",
            "\u001b[?25hDownloading multiprocess-0.70.16-py311-none-any.whl (143 kB)\n",
            "\u001b[2K   \u001b[90m━━━━━━━━━━━━━━━━━━━━━━━━━━━━━━━━━━━━━━━━\u001b[0m \u001b[32m143.5/143.5 kB\u001b[0m \u001b[31m14.0 MB/s\u001b[0m eta \u001b[36m0:00:00\u001b[0m\n",
            "\u001b[?25hDownloading rapidfuzz-3.13.0-cp311-cp311-manylinux_2_17_x86_64.manylinux2014_x86_64.whl (3.1 MB)\n",
            "\u001b[2K   \u001b[90m━━━━━━━━━━━━━━━━━━━━━━━━━━━━━━━━━━━━━━━━\u001b[0m \u001b[32m3.1/3.1 MB\u001b[0m \u001b[31m65.1 MB/s\u001b[0m eta \u001b[36m0:00:00\u001b[0m\n",
            "\u001b[?25hDownloading xxhash-3.5.0-cp311-cp311-manylinux_2_17_x86_64.manylinux2014_x86_64.whl (194 kB)\n",
            "\u001b[2K   \u001b[90m━━━━━━━━━━━━━━━━━━━━━━━━━━━━━━━━━━━━━━━━\u001b[0m \u001b[32m194.8/194.8 kB\u001b[0m \u001b[31m18.2 MB/s\u001b[0m eta \u001b[36m0:00:00\u001b[0m\n",
            "\u001b[?25hInstalling collected packages: xxhash, rapidfuzz, fsspec, dill, multiprocess, jiwer, datasets, evaluate\n",
            "  Attempting uninstall: fsspec\n",
            "    Found existing installation: fsspec 2025.3.2\n",
            "    Uninstalling fsspec-2025.3.2:\n",
            "      Successfully uninstalled fsspec-2025.3.2\n",
            "\u001b[31mERROR: pip's dependency resolver does not currently take into account all the packages that are installed. This behaviour is the source of the following dependency conflicts.\n",
            "torch 2.6.0+cu124 requires nvidia-cublas-cu12==12.4.5.8; platform_system == \"Linux\" and platform_machine == \"x86_64\", but you have nvidia-cublas-cu12 12.5.3.2 which is incompatible.\n",
            "torch 2.6.0+cu124 requires nvidia-cuda-cupti-cu12==12.4.127; platform_system == \"Linux\" and platform_machine == \"x86_64\", but you have nvidia-cuda-cupti-cu12 12.5.82 which is incompatible.\n",
            "torch 2.6.0+cu124 requires nvidia-cuda-nvrtc-cu12==12.4.127; platform_system == \"Linux\" and platform_machine == \"x86_64\", but you have nvidia-cuda-nvrtc-cu12 12.5.82 which is incompatible.\n",
            "torch 2.6.0+cu124 requires nvidia-cuda-runtime-cu12==12.4.127; platform_system == \"Linux\" and platform_machine == \"x86_64\", but you have nvidia-cuda-runtime-cu12 12.5.82 which is incompatible.\n",
            "torch 2.6.0+cu124 requires nvidia-cudnn-cu12==9.1.0.70; platform_system == \"Linux\" and platform_machine == \"x86_64\", but you have nvidia-cudnn-cu12 9.3.0.75 which is incompatible.\n",
            "torch 2.6.0+cu124 requires nvidia-cufft-cu12==11.2.1.3; platform_system == \"Linux\" and platform_machine == \"x86_64\", but you have nvidia-cufft-cu12 11.2.3.61 which is incompatible.\n",
            "torch 2.6.0+cu124 requires nvidia-curand-cu12==10.3.5.147; platform_system == \"Linux\" and platform_machine == \"x86_64\", but you have nvidia-curand-cu12 10.3.6.82 which is incompatible.\n",
            "torch 2.6.0+cu124 requires nvidia-cusolver-cu12==11.6.1.9; platform_system == \"Linux\" and platform_machine == \"x86_64\", but you have nvidia-cusolver-cu12 11.6.3.83 which is incompatible.\n",
            "torch 2.6.0+cu124 requires nvidia-cusparse-cu12==12.3.1.170; platform_system == \"Linux\" and platform_machine == \"x86_64\", but you have nvidia-cusparse-cu12 12.5.1.3 which is incompatible.\n",
            "torch 2.6.0+cu124 requires nvidia-nvjitlink-cu12==12.4.127; platform_system == \"Linux\" and platform_machine == \"x86_64\", but you have nvidia-nvjitlink-cu12 12.5.82 which is incompatible.\n",
            "gcsfs 2025.3.2 requires fsspec==2025.3.2, but you have fsspec 2024.12.0 which is incompatible.\u001b[0m\u001b[31m\n",
            "\u001b[0mSuccessfully installed datasets-3.5.0 dill-0.3.8 evaluate-0.4.3 fsspec-2024.12.0 jiwer-3.1.0 multiprocess-0.70.16 rapidfuzz-3.13.0 xxhash-3.5.0\n"
          ]
        }
      ]
    },
    {
      "cell_type": "code",
      "source": [
        "import evaluate\n",
        "from transformers.models.whisper.english_normalizer import BasicTextNormalizer\n",
        "metric = evaluate.load(\"wer\")\n",
        "normalizer = BasicTextNormalizer()"
      ],
      "metadata": {
        "id": "XNNM1ye-qUsm",
        "outputId": "152f4286-49c7-4bcf-e66b-24e99399da07",
        "colab": {
          "base_uri": "https://localhost:8080/",
          "height": 49,
          "referenced_widgets": [
            "69ea991d7c7d406397c080d498a0c67c",
            "c94bf8700cf8467bbf6731d3248871f3",
            "699bc42cd56e495f92170d371e83bef3",
            "6c9b9602e1cb47ff91f980acc9d4d7f6",
            "51411ab2150140cdbe8cd32dce6aa60e",
            "05878551be7f4ed984558d7690b994d4",
            "d37fe6d454434336bcbe66897b17d560",
            "0f9acfa81e194aca867d24a1b79a1b0e",
            "443f72f33e754b3d9de49cd5052e2399",
            "b8fef48c9e0143b3afe8c1733259020b",
            "bdd7375ef6b040a0a3e9764910fe6f99"
          ]
        }
      },
      "execution_count": 2,
      "outputs": [
        {
          "output_type": "display_data",
          "data": {
            "text/plain": [
              "Downloading builder script:   0%|          | 0.00/4.49k [00:00<?, ?B/s]"
            ],
            "application/vnd.jupyter.widget-view+json": {
              "version_major": 2,
              "version_minor": 0,
              "model_id": "69ea991d7c7d406397c080d498a0c67c"
            }
          },
          "metadata": {}
        }
      ]
    },
    {
      "cell_type": "code",
      "execution_count": 3,
      "metadata": {
        "id": "upUZNpwNqB8c"
      },
      "outputs": [],
      "source": [
        "reference = \"\"\"\n",
        "Eh bro you reach already ah Just reach The sun today damn strong sia I walk from bus stop only already sweat like one dog Ya lor I melting already Whole shirt wet liao You got bring water or not Got but never refill eh Useless one ah Then better go refill ah Later lecture confirm cannot tahan oh ya later got lecture ah Ya the two pm one You prepare already Half half lah I read the slides but then the reading ah I give up already Same sia Got quiz some more I anyhow do the practice questions last night but still cannot Wah you still got mood do ah I straightaway knock out after dinner No choice leh I already blur from last week’s lecture Later the tutor call me I confirm blur Just act busy can already lah Look down type something they won’t disturb you one I try that last time leh but still kena Wah jialat Okay okay later I sit beside you I help you if you stuck Wah steady Ok i treat you kopi later Kopi only I want iced chocolate leh Wah expensive sia but sure\n",
        "\"\"\""
      ]
    },
    {
      "cell_type": "code",
      "source": [
        "quiet_room_5m = \"\"\"\n",
        "eh bro you reach already ah just reach the sun to play damn strong sia i walk from basketball only already sweat like one dog ya lor i melt already whole shirt wet liao got bring water or not got but never refill eh useless one ah then better go refill ah later lecture confirm cannot tahan oh ya later got lecture ah ya the two pm one you prepare already half half lah i read the slides but then the readings ah i give up already same sia got quiz some more i anyhow do the practice questions last night but still cannot wah you still got the mood to do ah i straight away knock out after dinner no choice leh i already blur from last week's lecture later the tutor call me icon blur just act busy can already lah look down type something they won't disturb you one i try that last time leh but still gonna wah jialat okay okay later i sit beside you i help you if you start wah steady okay i treat you kopi later kopi only i want ice chocolate leh wah expensive sia but sure\n",
        "\"\"\""
      ],
      "metadata": {
        "id": "dUyPb4oDqk78"
      },
      "execution_count": null,
      "outputs": []
    },
    {
      "cell_type": "code",
      "source": [
        "quiet_room_4m = \"\"\"\n",
        "eh where you reach already ah just reach the sun to day damn strong sia i walk from bus stop only already sweat like one dog ya lor i melting already whole shirt wet liao you got bring water or not god but never refill eh useless one ah then better go refill ah later lecture confirm cannot ah oh ya later got lecture ah ya the two pm one you prepare already half half lah i read the slides but then the reading ah i give up already same sia got quiz some more i anyhow do the practice questions last night but still cannot wah you still got mood do ah i straight away knock out after dinner no choice leh i already blur from last week's lecture later the tutor call me i confirm blur just act busy can already lah look down type something they won't disturb you one i try that last time but still kena wah jialat okay okay i see beside you i help you if you start wah steady okay i treat you kopi later kopi only i want ice chocolate leh wah expensive sia but sure\n",
        "\"\"\""
      ],
      "metadata": {
        "id": "i_YMChU4qoWD"
      },
      "execution_count": null,
      "outputs": []
    },
    {
      "cell_type": "code",
      "source": [
        "quiet_room_3m = \"\"\"\n",
        "eh bro you reach already ah just reach the sun to gay damn strong sia i walk from bus stop only already sweat like one dog ya lor i melting already whole shirt wet liao you got bring water or not got never but never refill eh useless one lah then better go with you ah later lecture confirm cannot tahan oh ya later got lecture ah ya the two pm one you prepare already half half lah i read the slides but then the reading ah i give up already then the reading ah i give up already same sia got quiz some more like anyhow do the practice questions last night but still cannot wah you still got mood do ah i straight away knock out after dinner no choice leh i already blur from last week's lecture later the tutor call me i confirm the just act busy can already lah look down type something they won't disturb you one i try that last time leh but still kena wah jialat okay okay later i sit beside you i help you if you start wah steady okay i treat you kopi later kopi only i want ice chocolate leh wah expensive sia but sure\n",
        "\"\"\""
      ],
      "metadata": {
        "id": "SbMOwboMqo_Q"
      },
      "execution_count": null,
      "outputs": []
    },
    {
      "cell_type": "code",
      "source": [
        "noisy_canteen_1m = \"\"\"\n",
        "i'm not think all already so so very loud you got bring water or not got but never with you eh useless one ah then never go with you lah later make sure confirm finish lah tahan oh ya later got lecture ah ya the two pm one to prepare already ha ha apply i wear the slides but then the reading ah i give up already same sia got finish some more i anyhow do the practice question last night but still cannot what you still got mood to do ah i straight away knock out after dinner no choice leh i already blur from last week's lecture later the tutor come i confirm blur just act busy can already lah look down type something they only listen to one i try that last time leh but still gonna wah jialat okay okay later i say beside you i help you if you start wah steady okay i treat you kopi later kopi only i want ice chocolate leh wah expensive sia\n",
        "\"\"\""
      ],
      "metadata": {
        "id": "IqlQZNpgqqmP"
      },
      "execution_count": 4,
      "outputs": []
    },
    {
      "cell_type": "code",
      "source": [
        "reference_normalized = normalizer(reference)\n",
        "# quiet_room_5m_normalized = normalizer(quiet_room_5m)\n",
        "# quiet_room_4m_normalized = normalizer(quiet_room_4m)\n",
        "# quiet_room_3m_normalized = normalizer(quiet_room_3m)\n",
        "noisy_canteen_1m_normalized = normalizer(noisy_canteen_1m)"
      ],
      "metadata": {
        "id": "tw8R1PsSrAIa"
      },
      "execution_count": 5,
      "outputs": []
    },
    {
      "cell_type": "code",
      "source": [
        "wer = 100 * metric.compute(predictions=[quiet_room_3m_normalized], references=[reference_normalized])\n",
        "print(f'The WER is {wer}%')"
      ],
      "metadata": {
        "id": "pSsO0_TBrJ24",
        "outputId": "278732b6-4936-4de8-b66a-b545b434b792",
        "colab": {
          "base_uri": "https://localhost:8080/",
          "height": 158
        }
      },
      "execution_count": 6,
      "outputs": [
        {
          "output_type": "error",
          "ename": "NameError",
          "evalue": "name 'quiet_room_3m_normalized' is not defined",
          "traceback": [
            "\u001b[0;31m---------------------------------------------------------------------------\u001b[0m",
            "\u001b[0;31mNameError\u001b[0m                                 Traceback (most recent call last)",
            "\u001b[0;32m<ipython-input-6-32558d045151>\u001b[0m in \u001b[0;36m<cell line: 0>\u001b[0;34m()\u001b[0m\n\u001b[0;32m----> 1\u001b[0;31m \u001b[0mwer\u001b[0m \u001b[0;34m=\u001b[0m \u001b[0;36m100\u001b[0m \u001b[0;34m*\u001b[0m \u001b[0mmetric\u001b[0m\u001b[0;34m.\u001b[0m\u001b[0mcompute\u001b[0m\u001b[0;34m(\u001b[0m\u001b[0mpredictions\u001b[0m\u001b[0;34m=\u001b[0m\u001b[0;34m[\u001b[0m\u001b[0mquiet_room_3m_normalized\u001b[0m\u001b[0;34m]\u001b[0m\u001b[0;34m,\u001b[0m \u001b[0mreferences\u001b[0m\u001b[0;34m=\u001b[0m\u001b[0;34m[\u001b[0m\u001b[0mreference_normalized\u001b[0m\u001b[0;34m]\u001b[0m\u001b[0;34m)\u001b[0m\u001b[0;34m\u001b[0m\u001b[0;34m\u001b[0m\u001b[0m\n\u001b[0m\u001b[1;32m      2\u001b[0m \u001b[0mprint\u001b[0m\u001b[0;34m(\u001b[0m\u001b[0;34mf'The WER is {wer}%'\u001b[0m\u001b[0;34m)\u001b[0m\u001b[0;34m\u001b[0m\u001b[0;34m\u001b[0m\u001b[0m\n",
            "\u001b[0;31mNameError\u001b[0m: name 'quiet_room_3m_normalized' is not defined"
          ]
        }
      ]
    },
    {
      "cell_type": "code",
      "source": [
        "wer = 100 * metric.compute(predictions=[quiet_room_4m_normalized], references=[reference_normalized])\n",
        "print(f'The WER is {wer}%')"
      ],
      "metadata": {
        "id": "Lv3-EI_crx8i",
        "outputId": "c4eb7786-9192-4db6-fbc2-ed538c61ab81",
        "colab": {
          "base_uri": "https://localhost:8080/"
        }
      },
      "execution_count": null,
      "outputs": [
        {
          "output_type": "stream",
          "name": "stdout",
          "text": [
            "The WER is 6.598984771573605%\n"
          ]
        }
      ]
    },
    {
      "cell_type": "code",
      "source": [
        "wer = 100 * metric.compute(predictions=[quiet_room_5m_normalized], references=[reference_normalized])\n",
        "print(f'The WER is {wer}%')"
      ],
      "metadata": {
        "id": "FhEUFGljr9oS",
        "outputId": "69888e17-3f2c-4484-f3e2-37397b362d6c",
        "colab": {
          "base_uri": "https://localhost:8080/"
        }
      },
      "execution_count": null,
      "outputs": [
        {
          "output_type": "stream",
          "name": "stdout",
          "text": [
            "The WER is 8.629441624365482%\n"
          ]
        }
      ]
    },
    {
      "cell_type": "code",
      "source": [
        "wer = 100 * metric.compute(predictions=[noisy_canteen_1m_normalized], references=[reference_normalized])\n",
        "print(f'The WER is {wer}%')"
      ],
      "metadata": {
        "id": "Jv5WMAL3sF-6",
        "outputId": "ae7e2a5a-7428-422e-ef1c-75fcbd37a97f",
        "colab": {
          "base_uri": "https://localhost:8080/"
        }
      },
      "execution_count": 7,
      "outputs": [
        {
          "output_type": "stream",
          "name": "stdout",
          "text": [
            "The WER is 33.50253807106599%\n"
          ]
        }
      ]
    },
    {
      "cell_type": "code",
      "source": [],
      "metadata": {
        "id": "jDdOK5tYsM6K"
      },
      "execution_count": null,
      "outputs": []
    },
    {
      "cell_type": "code",
      "source": [],
      "metadata": {
        "id": "4jdHMU7WXhtl"
      },
      "execution_count": null,
      "outputs": []
    },
    {
      "cell_type": "code",
      "source": [
        "!pip install evaluate transformers jiwer"
      ],
      "metadata": {
        "id": "4xrhc_BwXhji"
      },
      "execution_count": null,
      "outputs": []
    },
    {
      "cell_type": "code",
      "source": [
        "import evaluate\n",
        "from transformers.models.whisper.english_normalizer import BasicTextNormalizer\n",
        "metric = evaluate.load(\"wer\")\n",
        "normalizer = BasicTextNormalizer()"
      ],
      "metadata": {
        "id": "eqka7a6yXkPO"
      },
      "execution_count": null,
      "outputs": []
    },
    {
      "cell_type": "code",
      "source": [
        "reference = \"\"\"\n",
        "Eh bro you reach already ah Just reach The sun today damn strong sia I walk from bus stop only already sweat like one dog Ya lor I melting already Whole shirt wet liao You got bring water or not Got but never refill eh Useless one ah Then better go refill ah Later lecture confirm cannot tahan oh ya later got lecture ah Ya the two pm one You prepare already Half half lah I read the slides but then the reading ah I give up already Same sia Got quiz some more I anyhow do the practice questions last night but still cannot Wah you still got mood do ah I straightaway knock out after dinner No choice leh I already blur from last week’s lecture Later the tutor call me I confirm blur Just act busy can already lah Look down type something they won’t disturb you one I try that last time leh but still kena Wah jialat Okay okay later I sit beside you I help you if you stuck Wah steady Ok i treat you kopi later Kopi only I want iced chocolate leh Wah expensive sia but sure\n",
        "\"\"\""
      ],
      "metadata": {
        "id": "VO_c6JhAXkhz"
      },
      "execution_count": null,
      "outputs": []
    },
    {
      "cell_type": "code",
      "source": [
        "noisy_canteen = \"\"\"\n",
        "i'm not think all already so so very loud you got bring water or not got but never with you eh useless one ah then never go with you lah later make sure confirm finish lah tahan oh ya later got lecture ah ya the two pm one to prepare already ha ha apply i wear the slides but then the reading ah i give up already same sia got finish some more i anyhow do the practice question last night but still cannot what you still got mood to do ah i straight away knock out after dinner no choice leh i already blur from last week's lecture later the tutor come i confirm blur just act busy can already lah look down type something they only listen to one i try that last time leh but still gonna wah jialat okay okay later i say beside you i help you if you start wah steady okay i treat you kopi later kopi only i want ice chocolate leh wah expensive sia\n",
        "\"\"\""
      ],
      "metadata": {
        "id": "VtDtJ-CMXmR8"
      },
      "execution_count": null,
      "outputs": []
    },
    {
      "cell_type": "code",
      "source": [
        "reference_normalized = normalizer(reference)\n",
        "noisy_canteen_normalized = normalizer(noisy_canteen)"
      ],
      "metadata": {
        "id": "Z3ZCfgriXpbn"
      },
      "execution_count": null,
      "outputs": []
    },
    {
      "cell_type": "code",
      "source": [
        "wer = 100 * metric.compute(predictions=[noisy_canteen_normalized], references=[reference_normalized])\n",
        "print(f'The WER is {wer}%')"
      ],
      "metadata": {
        "id": "y7EM9xZJXt78"
      },
      "execution_count": null,
      "outputs": []
    }
  ],
  "metadata": {
    "kernelspec": {
      "display_name": "Python 3",
      "name": "python3"
    },
    "language_info": {
      "codemirror_mode": {
        "name": "ipython",
        "version": 3
      },
      "file_extension": ".py",
      "mimetype": "text/x-python",
      "name": "python",
      "nbconvert_exporter": "python",
      "pygments_lexer": "ipython3",
      "version": "3.12.4"
    },
    "colab": {
      "provenance": [],
      "gpuType": "T4"
    },
    "accelerator": "GPU",
    "widgets": {
      "application/vnd.jupyter.widget-state+json": {
        "69ea991d7c7d406397c080d498a0c67c": {
          "model_module": "@jupyter-widgets/controls",
          "model_name": "HBoxModel",
          "model_module_version": "1.5.0",
          "state": {
            "_dom_classes": [],
            "_model_module": "@jupyter-widgets/controls",
            "_model_module_version": "1.5.0",
            "_model_name": "HBoxModel",
            "_view_count": null,
            "_view_module": "@jupyter-widgets/controls",
            "_view_module_version": "1.5.0",
            "_view_name": "HBoxView",
            "box_style": "",
            "children": [
              "IPY_MODEL_c94bf8700cf8467bbf6731d3248871f3",
              "IPY_MODEL_699bc42cd56e495f92170d371e83bef3",
              "IPY_MODEL_6c9b9602e1cb47ff91f980acc9d4d7f6"
            ],
            "layout": "IPY_MODEL_51411ab2150140cdbe8cd32dce6aa60e"
          }
        },
        "c94bf8700cf8467bbf6731d3248871f3": {
          "model_module": "@jupyter-widgets/controls",
          "model_name": "HTMLModel",
          "model_module_version": "1.5.0",
          "state": {
            "_dom_classes": [],
            "_model_module": "@jupyter-widgets/controls",
            "_model_module_version": "1.5.0",
            "_model_name": "HTMLModel",
            "_view_count": null,
            "_view_module": "@jupyter-widgets/controls",
            "_view_module_version": "1.5.0",
            "_view_name": "HTMLView",
            "description": "",
            "description_tooltip": null,
            "layout": "IPY_MODEL_05878551be7f4ed984558d7690b994d4",
            "placeholder": "​",
            "style": "IPY_MODEL_d37fe6d454434336bcbe66897b17d560",
            "value": "Downloading builder script: 100%"
          }
        },
        "699bc42cd56e495f92170d371e83bef3": {
          "model_module": "@jupyter-widgets/controls",
          "model_name": "FloatProgressModel",
          "model_module_version": "1.5.0",
          "state": {
            "_dom_classes": [],
            "_model_module": "@jupyter-widgets/controls",
            "_model_module_version": "1.5.0",
            "_model_name": "FloatProgressModel",
            "_view_count": null,
            "_view_module": "@jupyter-widgets/controls",
            "_view_module_version": "1.5.0",
            "_view_name": "ProgressView",
            "bar_style": "success",
            "description": "",
            "description_tooltip": null,
            "layout": "IPY_MODEL_0f9acfa81e194aca867d24a1b79a1b0e",
            "max": 4485,
            "min": 0,
            "orientation": "horizontal",
            "style": "IPY_MODEL_443f72f33e754b3d9de49cd5052e2399",
            "value": 4485
          }
        },
        "6c9b9602e1cb47ff91f980acc9d4d7f6": {
          "model_module": "@jupyter-widgets/controls",
          "model_name": "HTMLModel",
          "model_module_version": "1.5.0",
          "state": {
            "_dom_classes": [],
            "_model_module": "@jupyter-widgets/controls",
            "_model_module_version": "1.5.0",
            "_model_name": "HTMLModel",
            "_view_count": null,
            "_view_module": "@jupyter-widgets/controls",
            "_view_module_version": "1.5.0",
            "_view_name": "HTMLView",
            "description": "",
            "description_tooltip": null,
            "layout": "IPY_MODEL_b8fef48c9e0143b3afe8c1733259020b",
            "placeholder": "​",
            "style": "IPY_MODEL_bdd7375ef6b040a0a3e9764910fe6f99",
            "value": " 4.49k/4.49k [00:00&lt;00:00, 394kB/s]"
          }
        },
        "51411ab2150140cdbe8cd32dce6aa60e": {
          "model_module": "@jupyter-widgets/base",
          "model_name": "LayoutModel",
          "model_module_version": "1.2.0",
          "state": {
            "_model_module": "@jupyter-widgets/base",
            "_model_module_version": "1.2.0",
            "_model_name": "LayoutModel",
            "_view_count": null,
            "_view_module": "@jupyter-widgets/base",
            "_view_module_version": "1.2.0",
            "_view_name": "LayoutView",
            "align_content": null,
            "align_items": null,
            "align_self": null,
            "border": null,
            "bottom": null,
            "display": null,
            "flex": null,
            "flex_flow": null,
            "grid_area": null,
            "grid_auto_columns": null,
            "grid_auto_flow": null,
            "grid_auto_rows": null,
            "grid_column": null,
            "grid_gap": null,
            "grid_row": null,
            "grid_template_areas": null,
            "grid_template_columns": null,
            "grid_template_rows": null,
            "height": null,
            "justify_content": null,
            "justify_items": null,
            "left": null,
            "margin": null,
            "max_height": null,
            "max_width": null,
            "min_height": null,
            "min_width": null,
            "object_fit": null,
            "object_position": null,
            "order": null,
            "overflow": null,
            "overflow_x": null,
            "overflow_y": null,
            "padding": null,
            "right": null,
            "top": null,
            "visibility": null,
            "width": null
          }
        },
        "05878551be7f4ed984558d7690b994d4": {
          "model_module": "@jupyter-widgets/base",
          "model_name": "LayoutModel",
          "model_module_version": "1.2.0",
          "state": {
            "_model_module": "@jupyter-widgets/base",
            "_model_module_version": "1.2.0",
            "_model_name": "LayoutModel",
            "_view_count": null,
            "_view_module": "@jupyter-widgets/base",
            "_view_module_version": "1.2.0",
            "_view_name": "LayoutView",
            "align_content": null,
            "align_items": null,
            "align_self": null,
            "border": null,
            "bottom": null,
            "display": null,
            "flex": null,
            "flex_flow": null,
            "grid_area": null,
            "grid_auto_columns": null,
            "grid_auto_flow": null,
            "grid_auto_rows": null,
            "grid_column": null,
            "grid_gap": null,
            "grid_row": null,
            "grid_template_areas": null,
            "grid_template_columns": null,
            "grid_template_rows": null,
            "height": null,
            "justify_content": null,
            "justify_items": null,
            "left": null,
            "margin": null,
            "max_height": null,
            "max_width": null,
            "min_height": null,
            "min_width": null,
            "object_fit": null,
            "object_position": null,
            "order": null,
            "overflow": null,
            "overflow_x": null,
            "overflow_y": null,
            "padding": null,
            "right": null,
            "top": null,
            "visibility": null,
            "width": null
          }
        },
        "d37fe6d454434336bcbe66897b17d560": {
          "model_module": "@jupyter-widgets/controls",
          "model_name": "DescriptionStyleModel",
          "model_module_version": "1.5.0",
          "state": {
            "_model_module": "@jupyter-widgets/controls",
            "_model_module_version": "1.5.0",
            "_model_name": "DescriptionStyleModel",
            "_view_count": null,
            "_view_module": "@jupyter-widgets/base",
            "_view_module_version": "1.2.0",
            "_view_name": "StyleView",
            "description_width": ""
          }
        },
        "0f9acfa81e194aca867d24a1b79a1b0e": {
          "model_module": "@jupyter-widgets/base",
          "model_name": "LayoutModel",
          "model_module_version": "1.2.0",
          "state": {
            "_model_module": "@jupyter-widgets/base",
            "_model_module_version": "1.2.0",
            "_model_name": "LayoutModel",
            "_view_count": null,
            "_view_module": "@jupyter-widgets/base",
            "_view_module_version": "1.2.0",
            "_view_name": "LayoutView",
            "align_content": null,
            "align_items": null,
            "align_self": null,
            "border": null,
            "bottom": null,
            "display": null,
            "flex": null,
            "flex_flow": null,
            "grid_area": null,
            "grid_auto_columns": null,
            "grid_auto_flow": null,
            "grid_auto_rows": null,
            "grid_column": null,
            "grid_gap": null,
            "grid_row": null,
            "grid_template_areas": null,
            "grid_template_columns": null,
            "grid_template_rows": null,
            "height": null,
            "justify_content": null,
            "justify_items": null,
            "left": null,
            "margin": null,
            "max_height": null,
            "max_width": null,
            "min_height": null,
            "min_width": null,
            "object_fit": null,
            "object_position": null,
            "order": null,
            "overflow": null,
            "overflow_x": null,
            "overflow_y": null,
            "padding": null,
            "right": null,
            "top": null,
            "visibility": null,
            "width": null
          }
        },
        "443f72f33e754b3d9de49cd5052e2399": {
          "model_module": "@jupyter-widgets/controls",
          "model_name": "ProgressStyleModel",
          "model_module_version": "1.5.0",
          "state": {
            "_model_module": "@jupyter-widgets/controls",
            "_model_module_version": "1.5.0",
            "_model_name": "ProgressStyleModel",
            "_view_count": null,
            "_view_module": "@jupyter-widgets/base",
            "_view_module_version": "1.2.0",
            "_view_name": "StyleView",
            "bar_color": null,
            "description_width": ""
          }
        },
        "b8fef48c9e0143b3afe8c1733259020b": {
          "model_module": "@jupyter-widgets/base",
          "model_name": "LayoutModel",
          "model_module_version": "1.2.0",
          "state": {
            "_model_module": "@jupyter-widgets/base",
            "_model_module_version": "1.2.0",
            "_model_name": "LayoutModel",
            "_view_count": null,
            "_view_module": "@jupyter-widgets/base",
            "_view_module_version": "1.2.0",
            "_view_name": "LayoutView",
            "align_content": null,
            "align_items": null,
            "align_self": null,
            "border": null,
            "bottom": null,
            "display": null,
            "flex": null,
            "flex_flow": null,
            "grid_area": null,
            "grid_auto_columns": null,
            "grid_auto_flow": null,
            "grid_auto_rows": null,
            "grid_column": null,
            "grid_gap": null,
            "grid_row": null,
            "grid_template_areas": null,
            "grid_template_columns": null,
            "grid_template_rows": null,
            "height": null,
            "justify_content": null,
            "justify_items": null,
            "left": null,
            "margin": null,
            "max_height": null,
            "max_width": null,
            "min_height": null,
            "min_width": null,
            "object_fit": null,
            "object_position": null,
            "order": null,
            "overflow": null,
            "overflow_x": null,
            "overflow_y": null,
            "padding": null,
            "right": null,
            "top": null,
            "visibility": null,
            "width": null
          }
        },
        "bdd7375ef6b040a0a3e9764910fe6f99": {
          "model_module": "@jupyter-widgets/controls",
          "model_name": "DescriptionStyleModel",
          "model_module_version": "1.5.0",
          "state": {
            "_model_module": "@jupyter-widgets/controls",
            "_model_module_version": "1.5.0",
            "_model_name": "DescriptionStyleModel",
            "_view_count": null,
            "_view_module": "@jupyter-widgets/base",
            "_view_module_version": "1.2.0",
            "_view_name": "StyleView",
            "description_width": ""
          }
        }
      }
    }
  },
  "nbformat": 4,
  "nbformat_minor": 0
}