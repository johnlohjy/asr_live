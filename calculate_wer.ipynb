{
  "cells": [
    {
      "cell_type": "markdown",
      "metadata": {
        "id": "J2Oc2NKnqB8V"
      },
      "source": [
        "## Example on using the dataset\n",
        "\n",
        "Resources on building the dataset\n",
        "- https://huggingface.co/datasets/AILAB-VNUHCM/vivos/blob/main/vivos.py\n",
        "- https://huggingface.co/docs/datasets/en/audio_dataset#loading-script\n",
        "- https://huggingface.co/docs/datasets/en/stream"
      ]
    },
    {
      "cell_type": "markdown",
      "metadata": {
        "id": "eHdyy3_bqB8X"
      },
      "source": [
        "Whenever changes are made to the dataset repo, run ```Remove-Item -Recurse -Force ~/.cache/huggingface/datasets/``` from the terminal"
      ]
    },
    {
      "cell_type": "code",
      "source": [
        "!pip install evaluate transformers jiwer"
      ],
      "metadata": {
        "id": "3VLE_30oqLFc",
        "outputId": "800d85f9-0a56-41c6-a6ba-804309262223",
        "colab": {
          "base_uri": "https://localhost:8080/"
        }
      },
      "execution_count": 4,
      "outputs": [
        {
          "output_type": "stream",
          "name": "stdout",
          "text": [
            "Requirement already satisfied: evaluate in /usr/local/lib/python3.11/dist-packages (0.4.3)\n",
            "Requirement already satisfied: transformers in /usr/local/lib/python3.11/dist-packages (4.50.3)\n",
            "Collecting jiwer\n",
            "  Downloading jiwer-3.1.0-py3-none-any.whl.metadata (2.6 kB)\n",
            "Requirement already satisfied: datasets>=2.0.0 in /usr/local/lib/python3.11/dist-packages (from evaluate) (3.5.0)\n",
            "Requirement already satisfied: numpy>=1.17 in /usr/local/lib/python3.11/dist-packages (from evaluate) (2.0.2)\n",
            "Requirement already satisfied: dill in /usr/local/lib/python3.11/dist-packages (from evaluate) (0.3.8)\n",
            "Requirement already satisfied: pandas in /usr/local/lib/python3.11/dist-packages (from evaluate) (2.2.2)\n",
            "Requirement already satisfied: requests>=2.19.0 in /usr/local/lib/python3.11/dist-packages (from evaluate) (2.32.3)\n",
            "Requirement already satisfied: tqdm>=4.62.1 in /usr/local/lib/python3.11/dist-packages (from evaluate) (4.67.1)\n",
            "Requirement already satisfied: xxhash in /usr/local/lib/python3.11/dist-packages (from evaluate) (3.5.0)\n",
            "Requirement already satisfied: multiprocess in /usr/local/lib/python3.11/dist-packages (from evaluate) (0.70.16)\n",
            "Requirement already satisfied: fsspec>=2021.05.0 in /usr/local/lib/python3.11/dist-packages (from fsspec[http]>=2021.05.0->evaluate) (2024.12.0)\n",
            "Requirement already satisfied: huggingface-hub>=0.7.0 in /usr/local/lib/python3.11/dist-packages (from evaluate) (0.30.1)\n",
            "Requirement already satisfied: packaging in /usr/local/lib/python3.11/dist-packages (from evaluate) (24.2)\n",
            "Requirement already satisfied: filelock in /usr/local/lib/python3.11/dist-packages (from transformers) (3.18.0)\n",
            "Requirement already satisfied: pyyaml>=5.1 in /usr/local/lib/python3.11/dist-packages (from transformers) (6.0.2)\n",
            "Requirement already satisfied: regex!=2019.12.17 in /usr/local/lib/python3.11/dist-packages (from transformers) (2024.11.6)\n",
            "Requirement already satisfied: tokenizers<0.22,>=0.21 in /usr/local/lib/python3.11/dist-packages (from transformers) (0.21.1)\n",
            "Requirement already satisfied: safetensors>=0.4.3 in /usr/local/lib/python3.11/dist-packages (from transformers) (0.5.3)\n",
            "Requirement already satisfied: click>=8.1.8 in /usr/local/lib/python3.11/dist-packages (from jiwer) (8.1.8)\n",
            "Collecting rapidfuzz>=3.9.7 (from jiwer)\n",
            "  Downloading rapidfuzz-3.13.0-cp311-cp311-manylinux_2_17_x86_64.manylinux2014_x86_64.whl.metadata (12 kB)\n",
            "Requirement already satisfied: pyarrow>=15.0.0 in /usr/local/lib/python3.11/dist-packages (from datasets>=2.0.0->evaluate) (18.1.0)\n",
            "Requirement already satisfied: aiohttp in /usr/local/lib/python3.11/dist-packages (from datasets>=2.0.0->evaluate) (3.11.15)\n",
            "Requirement already satisfied: typing-extensions>=3.7.4.3 in /usr/local/lib/python3.11/dist-packages (from huggingface-hub>=0.7.0->evaluate) (4.13.0)\n",
            "Requirement already satisfied: charset-normalizer<4,>=2 in /usr/local/lib/python3.11/dist-packages (from requests>=2.19.0->evaluate) (3.4.1)\n",
            "Requirement already satisfied: idna<4,>=2.5 in /usr/local/lib/python3.11/dist-packages (from requests>=2.19.0->evaluate) (3.10)\n",
            "Requirement already satisfied: urllib3<3,>=1.21.1 in /usr/local/lib/python3.11/dist-packages (from requests>=2.19.0->evaluate) (2.3.0)\n",
            "Requirement already satisfied: certifi>=2017.4.17 in /usr/local/lib/python3.11/dist-packages (from requests>=2.19.0->evaluate) (2025.1.31)\n",
            "Requirement already satisfied: python-dateutil>=2.8.2 in /usr/local/lib/python3.11/dist-packages (from pandas->evaluate) (2.8.2)\n",
            "Requirement already satisfied: pytz>=2020.1 in /usr/local/lib/python3.11/dist-packages (from pandas->evaluate) (2025.2)\n",
            "Requirement already satisfied: tzdata>=2022.7 in /usr/local/lib/python3.11/dist-packages (from pandas->evaluate) (2025.2)\n",
            "Requirement already satisfied: aiohappyeyeballs>=2.3.0 in /usr/local/lib/python3.11/dist-packages (from aiohttp->datasets>=2.0.0->evaluate) (2.6.1)\n",
            "Requirement already satisfied: aiosignal>=1.1.2 in /usr/local/lib/python3.11/dist-packages (from aiohttp->datasets>=2.0.0->evaluate) (1.3.2)\n",
            "Requirement already satisfied: attrs>=17.3.0 in /usr/local/lib/python3.11/dist-packages (from aiohttp->datasets>=2.0.0->evaluate) (25.3.0)\n",
            "Requirement already satisfied: frozenlist>=1.1.1 in /usr/local/lib/python3.11/dist-packages (from aiohttp->datasets>=2.0.0->evaluate) (1.5.0)\n",
            "Requirement already satisfied: multidict<7.0,>=4.5 in /usr/local/lib/python3.11/dist-packages (from aiohttp->datasets>=2.0.0->evaluate) (6.3.1)\n",
            "Requirement already satisfied: propcache>=0.2.0 in /usr/local/lib/python3.11/dist-packages (from aiohttp->datasets>=2.0.0->evaluate) (0.3.1)\n",
            "Requirement already satisfied: yarl<2.0,>=1.17.0 in /usr/local/lib/python3.11/dist-packages (from aiohttp->datasets>=2.0.0->evaluate) (1.18.3)\n",
            "Requirement already satisfied: six>=1.5 in /usr/local/lib/python3.11/dist-packages (from python-dateutil>=2.8.2->pandas->evaluate) (1.17.0)\n",
            "Downloading jiwer-3.1.0-py3-none-any.whl (22 kB)\n",
            "Downloading rapidfuzz-3.13.0-cp311-cp311-manylinux_2_17_x86_64.manylinux2014_x86_64.whl (3.1 MB)\n",
            "\u001b[2K   \u001b[90m━━━━━━━━━━━━━━━━━━━━━━━━━━━━━━━━━━━━━━━━\u001b[0m \u001b[32m3.1/3.1 MB\u001b[0m \u001b[31m43.8 MB/s\u001b[0m eta \u001b[36m0:00:00\u001b[0m\n",
            "\u001b[?25hInstalling collected packages: rapidfuzz, jiwer\n",
            "Successfully installed jiwer-3.1.0 rapidfuzz-3.13.0\n"
          ]
        }
      ]
    },
    {
      "cell_type": "code",
      "source": [
        "import evaluate\n",
        "from transformers.models.whisper.english_normalizer import BasicTextNormalizer\n",
        "metric = evaluate.load(\"wer\")\n",
        "normalizer = BasicTextNormalizer()"
      ],
      "metadata": {
        "id": "XNNM1ye-qUsm"
      },
      "execution_count": 5,
      "outputs": []
    },
    {
      "cell_type": "code",
      "execution_count": 6,
      "metadata": {
        "id": "upUZNpwNqB8c"
      },
      "outputs": [],
      "source": [
        "reference = \"\"\"\n",
        "Eh bro you reach already ah Just reach The sun today damn strong sia I walk from bus stop only already sweat like one dog Ya lor I melting already Whole shirt wet liao You got bring water or not Got but never refill eh Useless one ah Then better go refill ah Later lecture confirm cannot tahan oh ya later got lecture ah Ya the two pm one You prepare already Half half lah I read the slides but then the reading ah I give up already Same sia Got quiz some more I anyhow do the practice questions last night but still cannot Wah you still got mood do ah I straightaway knock out after dinner No choice leh I already blur from last week’s lecture Later the tutor call me I confirm blur Just act busy can already lah Look down type something they won’t disturb you one I try that last time leh but still kena Wah jialat Okay okay later I sit beside you I help you if you stuck Wah steady Ok i treat you kopi later Kopi only I want iced chocolate leh Wah expensive sia but sure\n",
        "\"\"\""
      ]
    },
    {
      "cell_type": "code",
      "source": [
        "quiet_room_5m = \"\"\"\n",
        "eh bro you reach already ah just reach the sun to play damn strong sia i walk from basketball only already sweat like one dog ya lor i melt already whole shirt wet liao got bring water or not got but never refill eh useless one ah then better go refill ah later lecture confirm cannot tahan oh ya later got lecture ah ya the two pm one you prepare already half half lah i read the slides but then the readings ah i give up already same sia got quiz some more i anyhow do the practice questions last night but still cannot wah you still got the mood to do ah i straight away knock out after dinner no choice leh i already blur from last week's lecture later the tutor call me icon blur just act busy can already lah look down type something they won't disturb you one i try that last time leh but still gonna wah jialat okay okay later i sit beside you i help you if you start wah steady okay i treat you kopi later kopi only i want ice chocolate leh wah expensive sia but sure\n",
        "\"\"\""
      ],
      "metadata": {
        "id": "dUyPb4oDqk78"
      },
      "execution_count": 7,
      "outputs": []
    },
    {
      "cell_type": "code",
      "source": [
        "quiet_room_4m = \"\"\"\n",
        "eh where you reach already ah just reach the sun to day damn strong sia i walk from bus stop only already sweat like one dog ya lor i melting already whole shirt wet liao you got bring water or not god but never refill eh useless one ah then better go refill ah later lecture confirm cannot ah oh ya later got lecture ah ya the two pm one you prepare already half half lah i read the slides but then the reading ah i give up already same sia got quiz some more i anyhow do the practice questions last night but still cannot wah you still got mood do ah i straight away knock out after dinner no choice leh i already blur from last week's lecture later the tutor call me i confirm blur just act busy can already lah look down type something they won't disturb you one i try that last time but still kena wah jialat okay okay i see beside you i help you if you start wah steady okay i treat you kopi later kopi only i want ice chocolate leh wah expensive sia but sure\n",
        "\"\"\""
      ],
      "metadata": {
        "id": "i_YMChU4qoWD"
      },
      "execution_count": 8,
      "outputs": []
    },
    {
      "cell_type": "code",
      "source": [
        "quiet_room_3m = \"\"\"\n",
        "eh bro you reach already ah just reach the sun to gay damn strong sia i walk from bus stop only already sweat like one dog ya lor i melting already whole shirt wet liao you got bring water or not got never but never refill eh useless one lah then better go with you ah later lecture confirm cannot tahan oh ya later got lecture ah ya the two pm one you prepare already half half lah i read the slides but then the reading ah i give up already then the reading ah i give up already same sia got quiz some more like anyhow do the practice questions last night but still cannot wah you still got mood do ah i straight away knock out after dinner no choice leh i already blur from last week's lecture later the tutor call me i confirm the just act busy can already lah look down type something they won't disturb you one i try that last time leh but still kena wah jialat okay okay later i sit beside you i help you if you start wah steady okay i treat you kopi later kopi only i want ice chocolate leh wah expensive sia but sure\n",
        "\"\"\""
      ],
      "metadata": {
        "id": "SbMOwboMqo_Q"
      },
      "execution_count": 9,
      "outputs": []
    },
    {
      "cell_type": "code",
      "source": [
        "noisy_canteen_1m = \"\"\"\n",
        "eh you got to go movies already right just reach just say that the water pass switch i mean that that are a lot of fun topic ya lor nothing already so sure whether your your brain water or not your brain will feel eh useless one ah so that's a good review lah take the lecturers lah oh ya later i'm not so lah ya maybe i'm damn bad already i mean the slot but then the reading ah i give up already talk to you some more how do the practice better lesson next next what you still got no do what i still very much hope i can do it all the way for you to do it all the way for you to learn from class next you can have tutor more probably hmm what do you mean by stop lah still for free later for free only ya i want my partner lah\n",
        "\"\"\""
      ],
      "metadata": {
        "id": "IqlQZNpgqqmP"
      },
      "execution_count": 10,
      "outputs": []
    },
    {
      "cell_type": "code",
      "source": [
        "reference_normalized = normalizer(reference)\n",
        "quiet_room_5m_normalized = normalizer(quiet_room_5m)\n",
        "quiet_room_4m_normalized = normalizer(quiet_room_4m)\n",
        "quiet_room_3m_normalized = normalizer(quiet_room_3m)\n",
        "noisy_canteen_1m_normalized = normalizer(noisy_canteen_1m)"
      ],
      "metadata": {
        "id": "tw8R1PsSrAIa"
      },
      "execution_count": 11,
      "outputs": []
    },
    {
      "cell_type": "code",
      "source": [
        "wer = 100 * metric.compute(predictions=[quiet_room_3m_normalized], references=[reference_normalized])\n",
        "print(f'The WER is {wer}%')"
      ],
      "metadata": {
        "id": "pSsO0_TBrJ24",
        "outputId": "1327242c-4aa4-4a32-b4a9-8c81394d9a2b",
        "colab": {
          "base_uri": "https://localhost:8080/"
        }
      },
      "execution_count": 12,
      "outputs": [
        {
          "output_type": "stream",
          "name": "stdout",
          "text": [
            "The WER is 10.65989847715736%\n"
          ]
        }
      ]
    },
    {
      "cell_type": "code",
      "source": [
        "wer = 100 * metric.compute(predictions=[quiet_room_4m_normalized], references=[reference_normalized])\n",
        "print(f'The WER is {wer}%')"
      ],
      "metadata": {
        "id": "Lv3-EI_crx8i",
        "outputId": "adde2f8f-7faf-449f-cd31-a2147cdf43d5",
        "colab": {
          "base_uri": "https://localhost:8080/"
        }
      },
      "execution_count": 13,
      "outputs": [
        {
          "output_type": "stream",
          "name": "stdout",
          "text": [
            "The WER is 6.598984771573605%\n"
          ]
        }
      ]
    },
    {
      "cell_type": "code",
      "source": [
        "wer = 100 * metric.compute(predictions=[quiet_room_5m_normalized], references=[reference_normalized])\n",
        "print(f'The WER is {wer}%')"
      ],
      "metadata": {
        "id": "FhEUFGljr9oS",
        "outputId": "9096c471-fa86-4c69-a25b-f0a7b3ea7f73",
        "colab": {
          "base_uri": "https://localhost:8080/"
        }
      },
      "execution_count": 14,
      "outputs": [
        {
          "output_type": "stream",
          "name": "stdout",
          "text": [
            "The WER is 8.629441624365482%\n"
          ]
        }
      ]
    },
    {
      "cell_type": "code",
      "source": [
        "wer = 100 * metric.compute(predictions=[noisy_canteen_1m_normalized], references=[reference_normalized])\n",
        "print(f'The WER is {wer}%')"
      ],
      "metadata": {
        "id": "Jv5WMAL3sF-6",
        "outputId": "87a48392-449a-43c3-c4ab-62ff93fa72df",
        "colab": {
          "base_uri": "https://localhost:8080/"
        }
      },
      "execution_count": 15,
      "outputs": [
        {
          "output_type": "stream",
          "name": "stdout",
          "text": [
            "The WER is 78.68020304568529%\n"
          ]
        }
      ]
    },
    {
      "cell_type": "code",
      "source": [],
      "metadata": {
        "id": "jDdOK5tYsM6K"
      },
      "execution_count": null,
      "outputs": []
    }
  ],
  "metadata": {
    "kernelspec": {
      "display_name": "Python 3",
      "name": "python3"
    },
    "language_info": {
      "codemirror_mode": {
        "name": "ipython",
        "version": 3
      },
      "file_extension": ".py",
      "mimetype": "text/x-python",
      "name": "python",
      "nbconvert_exporter": "python",
      "pygments_lexer": "ipython3",
      "version": "3.12.4"
    },
    "colab": {
      "provenance": [],
      "gpuType": "T4"
    },
    "accelerator": "GPU"
  },
  "nbformat": 4,
  "nbformat_minor": 0
}