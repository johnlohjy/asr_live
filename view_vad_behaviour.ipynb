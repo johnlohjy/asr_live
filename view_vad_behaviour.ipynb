{
  "cells": [
    {
      "cell_type": "code",
      "source": [
        "!pip install -q onnxruntime pydub"
      ],
      "metadata": {
        "colab": {
          "base_uri": "https://localhost:8080/"
        },
        "id": "5G_m1Z64xC8K",
        "outputId": "fef702b0-eb17-4b46-ee72-91107d0d1ebd"
      },
      "execution_count": 1,
      "outputs": [
        {
          "output_type": "stream",
          "name": "stdout",
          "text": [
            "\u001b[2K   \u001b[90m━━━━━━━━━━━━━━━━━━━━━━━━━━━━━━━━━━━━━━━━\u001b[0m \u001b[32m16.0/16.0 MB\u001b[0m \u001b[31m75.6 MB/s\u001b[0m eta \u001b[36m0:00:00\u001b[0m\n",
            "\u001b[2K   \u001b[90m━━━━━━━━━━━━━━━━━━━━━━━━━━━━━━━━━━━━━━━━\u001b[0m \u001b[32m46.0/46.0 kB\u001b[0m \u001b[31m3.7 MB/s\u001b[0m eta \u001b[36m0:00:00\u001b[0m\n",
            "\u001b[2K   \u001b[90m━━━━━━━━━━━━━━━━━━━━━━━━━━━━━━━━━━━━━━━━\u001b[0m \u001b[32m86.8/86.8 kB\u001b[0m \u001b[31m7.9 MB/s\u001b[0m eta \u001b[36m0:00:00\u001b[0m\n",
            "\u001b[?25h"
          ]
        }
      ]
    },
    {
      "cell_type": "code",
      "source": [
        "import matplotlib.pyplot as plt\n",
        "import onnxruntime\n",
        "from pydub import AudioSegment\n",
        "import torch\n",
        "import numpy as np\n",
        "\n",
        "audio_fname = 'testing_classroom_1.wav'"
      ],
      "metadata": {
        "id": "gZyVmd-UwxIx"
      },
      "execution_count": 2,
      "outputs": []
    },
    {
      "cell_type": "code",
      "source": [
        "class OnnxWrapper():\n",
        "    '''\n",
        "    Code taken from: https://github.com/snakers4/silero-vad/blob/master/src/silero_vad/utils_vad.py\n",
        "\n",
        "    See https://github.com/collabora/WhisperLive/blob/main/whisper_live/vad.py\n",
        "    '''\n",
        "    def __init__(self, path, force_onnx_cpu=False):\n",
        "        opts = onnxruntime.SessionOptions()\n",
        "        opts.inter_op_num_threads = 1\n",
        "        opts.intra_op_num_threads = 1\n",
        "\n",
        "        if force_onnx_cpu and 'CPUExecutionProvider' in onnxruntime.get_available_providers():\n",
        "            self.session = onnxruntime.InferenceSession(path, providers=['CPUExecutionProvider'], sess_options=opts)\n",
        "        else:\n",
        "            self.session = onnxruntime.InferenceSession(path, sess_options=opts)\n",
        "\n",
        "        self.reset_states()\n",
        "        if '16k' in path:\n",
        "            warnings.warn('This model support only 16000 sampling rate!')\n",
        "            self.sample_rates = [16000]\n",
        "        else:\n",
        "            self.sample_rates = [8000, 16000]\n",
        "\n",
        "    def _validate_input(self, x, sr: int):\n",
        "        if x.dim() == 1:\n",
        "            x = x.unsqueeze(0)\n",
        "        if x.dim() > 2:\n",
        "            raise ValueError(f\"Too many dimensions for input audio chunk {x.dim()}\")\n",
        "\n",
        "        if sr != 16000 and (sr % 16000 == 0):\n",
        "            step = sr // 16000\n",
        "            x = x[:,::step]\n",
        "            sr = 16000\n",
        "\n",
        "        if sr not in self.sample_rates:\n",
        "            raise ValueError(f\"Supported sampling rates: {self.sample_rates} (or multiply of 16000)\")\n",
        "        if sr / x.shape[1] > 31.25:\n",
        "            raise ValueError(\"Input audio chunk is too short\")\n",
        "\n",
        "        return x, sr\n",
        "\n",
        "    def reset_states(self, batch_size=1):\n",
        "        self._state = torch.zeros((2, batch_size, 128)).float()\n",
        "        self._context = torch.zeros(0)\n",
        "        self._last_sr = 0\n",
        "        self._last_batch_size = 0\n",
        "\n",
        "    def __call__(self, x, sr: int):\n",
        "\n",
        "        x, sr = self._validate_input(x, sr)\n",
        "        num_samples = 512 if sr == 16000 else 256\n",
        "\n",
        "        if x.shape[-1] != num_samples:\n",
        "            raise ValueError(f\"Provided number of samples is {x.shape[-1]} (Supported values: 256 for 8000 sample rate, 512 for 16000)\")\n",
        "\n",
        "        batch_size = x.shape[0]\n",
        "        context_size = 64 if sr == 16000 else 32\n",
        "\n",
        "        if not self._last_batch_size:\n",
        "            self.reset_states(batch_size)\n",
        "        if (self._last_sr) and (self._last_sr != sr):\n",
        "            self.reset_states(batch_size)\n",
        "        if (self._last_batch_size) and (self._last_batch_size != batch_size):\n",
        "            self.reset_states(batch_size)\n",
        "\n",
        "        if not len(self._context):\n",
        "            self._context = torch.zeros(batch_size, context_size)\n",
        "\n",
        "        x = torch.cat([self._context, x], dim=1)\n",
        "        if sr in [8000, 16000]:\n",
        "            ort_inputs = {'input': x.numpy(), 'state': self._state.numpy(), 'sr': np.array(sr, dtype='int64')}\n",
        "            ort_outs = self.session.run(None, ort_inputs)\n",
        "            out, state = ort_outs\n",
        "            self._state = torch.from_numpy(state)\n",
        "        else:\n",
        "            raise ValueError()\n",
        "\n",
        "        self._context = x[..., -context_size:]\n",
        "        self._last_sr = sr\n",
        "        self._last_batch_size = batch_size\n",
        "\n",
        "        out = torch.from_numpy(out)\n",
        "        return out\n",
        "\n",
        "    def audio_forward(self, x, sr: int):\n",
        "        outs = []\n",
        "        x, sr = self._validate_input(x, sr)\n",
        "        self.reset_states()\n",
        "        num_samples = 512 if sr == 16000 else 256\n",
        "\n",
        "        if x.shape[1] % num_samples:\n",
        "            pad_num = num_samples - (x.shape[1] % num_samples)\n",
        "            x = torch.nn.functional.pad(x, (0, pad_num), 'constant', value=0.0)\n",
        "\n",
        "        for i in range(0, x.shape[1], num_samples):\n",
        "            wavs_batch = x[:, i:i+num_samples]\n",
        "            out_chunk = self.__call__(wavs_batch, sr)\n",
        "            outs.append(out_chunk)\n",
        "\n",
        "        stacked = torch.cat(outs, dim=1)\n",
        "        return stacked.cpu()\n",
        "\n",
        "\n",
        "\n",
        "\n",
        "class VoiceActivityDetector:\n",
        "    '''\n",
        "    See https://github.com/collabora/WhisperLive/blob/main/whisper_live/vad.py\n",
        "\n",
        "    Onxx model:\n",
        "    '''\n",
        "    def __init__(self, path, threshold=0.5, frame_rate=16000):\n",
        "        \"\"\"\n",
        "        Initializes the VoiceActivityDetector with a voice activity detection model and a threshold.\n",
        "\n",
        "        Args:\n",
        "            threshold (float, optional): The probability threshold for detecting voice activity. Defaults to 0.5.\n",
        "        \"\"\"\n",
        "        self.model = OnnxWrapper(path=path,force_onnx_cpu=True)\n",
        "        self.threshold = threshold\n",
        "        self.frame_rate = frame_rate\n",
        "\n",
        "    def __call__(self, audio_frame):\n",
        "        \"\"\"\n",
        "        Determines if the given audio frame contains speech by comparing the detected speech probability against\n",
        "        the threshold.\n",
        "\n",
        "        Args:\n",
        "            audio_frame (np.ndarray): The audio frame to be analyzed for voice activity. It is expected to be a\n",
        "                                      NumPy array of audio samples.\n",
        "\n",
        "        Returns:\n",
        "            bool: True if the speech probability exceeds the threshold, indicating the presence of voice activity;\n",
        "                  False otherwise.\n",
        "        \"\"\"\n",
        "        speech_probs = self.model.audio_forward(torch.from_numpy(audio_frame.copy()), self.frame_rate)[0]\n",
        "        return torch.any(speech_probs > self.threshold).item()"
      ],
      "metadata": {
        "id": "mSKyXsPrwu38"
      },
      "execution_count": 5,
      "outputs": []
    },
    {
      "cell_type": "code",
      "source": [
        "vad_model_path = './silero_vad.onnx'\n",
        "vad_threshold = 0.5\n",
        "vad_detector = VoiceActivityDetector(vad_model_path,vad_threshold,16000) # Load the Silero VAD model"
      ],
      "metadata": {
        "id": "FRt4e8QvwzXr"
      },
      "execution_count": 6,
      "outputs": []
    },
    {
      "cell_type": "markdown",
      "source": [
        "## VAD configs\n",
        "\n",
        "- Chunk size\n",
        "- VAD threshold"
      ],
      "metadata": {
        "id": "IOPc8x5ax6aP"
      }
    },
    {
      "cell_type": "code",
      "source": [
        "def get_chunk_duration(chunk_size,sr):\n",
        "  return chunk_size/sr\n",
        "\n",
        "get_chunk_duration(4096*3,16000)"
      ],
      "metadata": {
        "colab": {
          "base_uri": "https://localhost:8080/"
        },
        "id": "9qeqT1o4yKaT",
        "outputId": "c0a4debe-8881-4037-f5a2-8c8552753886"
      },
      "execution_count": 7,
      "outputs": [
        {
          "output_type": "execute_result",
          "data": {
            "text/plain": [
              "0.768"
            ]
          },
          "metadata": {},
          "execution_count": 7
        }
      ]
    },
    {
      "cell_type": "code",
      "source": [
        "def get_chunk_size(chunk_duration,sr):\n",
        "  return chunk_duration*sr\n",
        "#get_chunk_size(1,16000)"
      ],
      "metadata": {
        "id": "M82c6Lo2ycou"
      },
      "execution_count": 8,
      "outputs": []
    },
    {
      "cell_type": "code",
      "source": [
        "audio = AudioSegment.from_file(audio_fname)\n",
        "audio = audio.set_frame_rate(16000).set_channels(1).set_sample_width(2)  # ensure 16kHz, mono, 16-bit PCM\n",
        "\n",
        "audio = audio[6000:56000]\n",
        "\n",
        "# Get the length of the audio file\n",
        "audio_duration_seconds = audio.duration_seconds\n",
        "\n",
        "# Convert to raw samples\n",
        "audio_samples = np.array(audio.get_array_of_samples()).astype(np.float32) / 32768\n",
        "\n",
        "# https://docs.rs/voice_activity_detector/latest/voice_activity_detector/#:~:text=This%20implementation%20uses%20the%20Silero,an%208000%20hz%20sample%20rate.\n",
        "'''\n",
        "It is trained using chunk sizes of 512, 768, 1024 samples for a 16,000 hz sample rate. These values are recommended for optimal performance, but are not required.\n",
        "The only requirement imposed by the underlying model is the sample rate must be no larger than 31.25 times the chunk size.\n",
        "'''\n",
        "chunk = 4096*3\n",
        "\n",
        "probs = []\n",
        "for i in range(0, len(audio_samples), chunk):\n",
        "    chunk_audio = audio_samples[i:i+chunk]\n",
        "    if len(chunk_audio) < 512:\n",
        "        chunk_audio = np.pad(chunk_audio, (0, 512 - len(chunk_audio)))\n",
        "    prob = vad_detector(chunk_audio)  # assumes your model returns probability\n",
        "    probs.append(prob)\n",
        "\n",
        "plt.plot(probs)\n",
        "plt.axhline(y=0.5, color='r', linestyle='--', label='Threshold=0.5')\n",
        "plt.axhline(y=0.2, color='g', linestyle='--', label='Threshold=0.2')\n",
        "plt.xlabel(\"Chunk Index\")\n",
        "plt.ylabel(\"Speech Probability\")\n",
        "plt.title(\"VAD Speech Probabilities Over Time\")\n",
        "plt.legend()\n",
        "plt.grid()\n",
        "plt.show()"
      ],
      "metadata": {
        "colab": {
          "base_uri": "https://localhost:8080/",
          "height": 472
        },
        "id": "PySb9WXGwVsQ",
        "outputId": "e5946554-aad5-4273-b8e0-d10f6159c8f1"
      },
      "execution_count": 11,
      "outputs": [
        {
          "output_type": "display_data",
          "data": {
            "text/plain": [
              "<Figure size 640x480 with 1 Axes>"
            ],
            "image/png": "[encoded data removed]"
          },
          "metadata": {}
        }
      ]
    },
    {
      "cell_type": "code",
      "source": [],
      "metadata": {
        "id": "aUraaEi7xW7X"
      },
      "execution_count": null,
      "outputs": []
    }
  ],
  "metadata": {
    "accelerator": "GPU",
    "colab": {
      "gpuType": "T4",
      "provenance": []
    },
    "kernelspec": {
      "display_name": "Python 3",
      "name": "python3"
    },
    "language_info": {
      "codemirror_mode": {
        "name": "ipython",
        "version": 3
      },
      "file_extension": ".py",
      "mimetype": "text/x-python",
      "name": "python",
      "nbconvert_exporter": "python",
      "pygments_lexer": "ipython3",
      "version": "3.12.4"
    }
  },
  "nbformat": 4,
  "nbformat_minor": 0
}