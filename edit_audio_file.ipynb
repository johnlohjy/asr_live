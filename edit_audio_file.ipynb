{
 "cells": [
  {
   "cell_type": "code",
   "execution_count": 1,
   "metadata": {},
   "outputs": [],
   "source": [
    "from pydub import AudioSegment\n",
    "\n",
    "def crop_audio(input_path, output_path, start_time=0, duration=30):\n",
    "    audio = AudioSegment.from_file(input_path)\n",
    "\n",
    "    # Convert times to milliseconds\n",
    "    start_ms = start_time * 1000\n",
    "    end_ms = start_ms + (duration * 1000)\n",
    "\n",
    "    # Crop and export\n",
    "    cropped = audio[start_ms:end_ms]\n",
    "    cropped.export(output_path, format=\"wav\")\n",
    "\n",
    "# Example usage\n",
    "crop_audio('./custom_test_set/sample_convo_1.mp3', \"./custom_test_set/sample_convo_1_cropped.mp3\", start_time=0, duration=112)"
   ]
  },
  {
   "cell_type": "code",
   "execution_count": null,
   "metadata": {},
   "outputs": [],
   "source": []
  }
 ],
 "metadata": {
  "kernelspec": {
   "display_name": "myenv2",
   "language": "python",
   "name": "python3"
  },
  "language_info": {
   "codemirror_mode": {
    "name": "ipython",
    "version": 3
   },
   "file_extension": ".py",
   "mimetype": "text/x-python",
   "name": "python",
   "nbconvert_exporter": "python",
   "pygments_lexer": "ipython3",
   "version": "3.12.4"
  }
 },
 "nbformat": 4,
 "nbformat_minor": 2
}
