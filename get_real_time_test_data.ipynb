{
 "cells": [
  {
   "cell_type": "code",
   "execution_count": null,
   "metadata": {},
   "outputs": [],
   "source": [
    "!nvcc --version"
   ]
  },
  {
   "cell_type": "code",
   "execution_count": null,
   "metadata": {},
   "outputs": [],
   "source": [
    "!pip uninstall -y torch torchvision torchaudio triton nvidia-cublas-cu12 nvidia-cuda-runtime-cu12 nvidia-cudnn-cu12 nvidia-cufft-cu12 nvidia-curand-cu12 nvidia-cusolver-cu12 nvidia-cusparse-cu12 nvidia-nccl-cu12"
   ]
  },
  {
   "cell_type": "code",
   "execution_count": null,
   "metadata": {},
   "outputs": [],
   "source": [
    "!pip install torch torchvision torchaudio --extra-index-url https://download.pytorch.org/whl/cu125"
   ]
  },
  {
   "cell_type": "code",
   "execution_count": null,
   "metadata": {},
   "outputs": [],
   "source": [
    "!pip install -q datasets bitsandbytes accelerate onnxruntime evaluate jiwer"
   ]
  },
  {
   "cell_type": "code",
   "execution_count": null,
   "metadata": {},
   "outputs": [],
   "source": [
    "!pip install pydub"
   ]
  },
  {
   "cell_type": "code",
   "execution_count": null,
   "metadata": {},
   "outputs": [],
   "source": [
    "import torch\n",
    "import triton\n",
    "import torch.backends.cudnn as cudnn\n",
    "\n",
    "print(\"Torch Version:\", torch.__version__)\n",
    "print(\"Torch CUDA Version:\", torch.version.cuda)\n",
    "print(\"CUDA Available:\", torch.cuda.is_available())\n",
    "print(\"Triton Version:\", triton.__version__)\n",
    "print(\"cuDNN Version:\", cudnn.version())"
   ]
  },
  {
   "cell_type": "code",
   "execution_count": null,
   "metadata": {},
   "outputs": [],
   "source": [
    "from transformers import WhisperForConditionalGeneration, WhisperProcessor\n",
    "from google.colab import drive\n",
    "import time\n",
    "import warnings\n",
    "import numpy as np\n",
    "import onnxruntime\n",
    "from datasets import load_dataset\n",
    "from itertools import islice\n",
    "from torch.utils.data import IterableDataset\n",
    "import json\n",
    "import os\n",
    "import wave\n",
    "import threading\n",
    "import textwrap\n",
    "from IPython.display import clear_output\n",
    "import evaluate\n",
    "from transformers.models.whisper.english_normalizer import BasicTextNormalizer\n",
    "import collections\n",
    "import pickle\n",
    "import random\n",
    "from pydub import AudioSegment"
   ]
  },
  {
   "cell_type": "code",
   "execution_count": null,
   "metadata": {},
   "outputs": [],
   "source": [
    "fnumbers = ['3148-2','3147-1','conf_2690_2690_00862467','conf_2688_2688_00862561']\n",
    "wav_fnames = []\n",
    "for f in fnumbers:\n",
    "    for i in range(1,9):\n",
    "        wav_fnames.append(f + f'_{i}.wav')"
   ]
  },
  {
   "cell_type": "code",
   "execution_count": null,
   "metadata": {},
   "outputs": [],
   "source": [
    "wav_fnames"
   ]
  },
  {
   "cell_type": "code",
   "execution_count": null,
   "metadata": {},
   "outputs": [],
   "source": [
    "dataset_repo_test = \"johnlohjy/imda_nsc_p3_test_noiseaugmented_mini\"\n",
    "dataset_test = load_dataset(dataset_repo_test, split='test', streaming=True, trust_remote_code=True)"
   ]
  },
  {
   "cell_type": "code",
   "execution_count": null,
   "metadata": {},
   "outputs": [],
   "source": [
    "RATE = 16000\n",
    "chunk = 4096\n",
    "no_voice_activity_threshold = 20\n",
    "references = []\n",
    "\n",
    "\n",
    "#####################CREATE CONTINOUS AUDIO ARRAY ONCE S.T ITS REPRODUCIBLE############\n",
    "# Store all audio samples\n",
    "all_audio_samples = []\n",
    "\n",
    "for sample in dataset_test:\n",
    "  # If its a sample we want\n",
    "  if sample['path'].split('/')[1] in wav_fnames:\n",
    "    # Get a single audio samples data and convert from float 64 to float 32\n",
    "    # Append it to all_audio_samples\n",
    "    audio_sample = sample[\"audio\"][\"array\"].astype(np.float32)\n",
    "    all_audio_samples.append(audio_sample)\n",
    "\n",
    "    # Increment the audio length\n",
    "    total_audio_len += len(audio_sample)/16000\n",
    "    total_audio_len_extra_silences += len(audio_sample)/16000\n",
    "\n",
    "    # Insert random lengths of silence (1s to 5s) at the end of the curr sample\n",
    "    silence = np.zeros(random.randint(1, 5)*RATE, dtype=np.float32)\n",
    "    all_audio_samples.append(silence)\n",
    "\n",
    "    # Increment the total_audio_len_extra_silences with silence\n",
    "    total_audio_len_extra_silences += len(silence)/16000\n",
    "\n",
    "    # Add the reference\n",
    "    references.append(sample[\"sentence\"])\n",
    "\n",
    "# Concatenate all audio samples (with silences)\n",
    "audio_samples = np.concatenate(all_audio_samples)\n",
    "\n",
    "# Add no_voice_activity_threshold chunks of silence to the concatenated audio samples so the lastest segment of audio will be saved\n",
    "silence = np.zeros(chunk*(no_voice_activity_threshold+5), dtype=np.float32)\n",
    "audio_samples = np.concatenate((audio_samples, silence))\n",
    "total_audio_len_extra_silences += len(silence)/16000\n",
    "#####################CREATE CONTINOUS AUDIO ARRAY ONCE S.T ITS REPRODUCIBLE############"
   ]
  },
  {
   "cell_type": "code",
   "execution_count": null,
   "metadata": {},
   "outputs": [],
   "source": [
    "######################SAVE CONTINOUS ARRAYS######################\n",
    "with open(f\"test_audio_{total_audio_len/60}_mins.pkl\", \"wb\") as f:\n",
    "    pickle.dump(audio_samples, f)\n",
    "\n",
    "with open(f\"test_references.pkl\", \"wb\") as f:\n",
    "    pickle.dump(references, f)\n",
    "\n",
    "with open(f\"test_wavfnames.pkl\", \"wb\") as f:\n",
    "    pickle.dump(wav_fnames, f)\n",
    "######################SAVE CONTINOUS ARRAYS######################"
   ]
  },
  {
   "cell_type": "code",
   "execution_count": null,
   "metadata": {},
   "outputs": [],
   "source": [
    "print(f'The total audio length is {total_audio_len}')\n",
    "print(f'The total audio length with silences is {total_audio_len_extra_silences}')"
   ]
  },
  {
   "cell_type": "code",
   "execution_count": null,
   "metadata": {},
   "outputs": [],
   "source": [
    "snr_wavfile_values = {}\n",
    "\n",
    "with open(\"data_test_waves_snr.txt\", \"r\") as file:\n",
    "    for line in file:\n",
    "        key, value = line.strip().split(' ')\n",
    "        snr_wavfile_values[key] = value\n",
    "     \n",
    "snr_wavfile_counts = collections.defaultdict(int)\n",
    "\n",
    "for fname in wav_fnames:\n",
    "    snr_wavfile_counts[snr_wavfile_values[fname]] += 1"
   ]
  },
  {
   "cell_type": "code",
   "execution_count": null,
   "metadata": {},
   "outputs": [],
   "source": [
    "snr_wavfile_counts"
   ]
  }
 ],
 "metadata": {
  "kernelspec": {
   "display_name": "myenv2",
   "language": "python",
   "name": "python3"
  },
  "language_info": {
   "codemirror_mode": {
    "name": "ipython",
    "version": 3
   },
   "file_extension": ".py",
   "mimetype": "text/x-python",
   "name": "python",
   "nbconvert_exporter": "python",
   "pygments_lexer": "ipython3",
   "version": "3.12.4"
  }
 },
 "nbformat": 4,
 "nbformat_minor": 2
}
